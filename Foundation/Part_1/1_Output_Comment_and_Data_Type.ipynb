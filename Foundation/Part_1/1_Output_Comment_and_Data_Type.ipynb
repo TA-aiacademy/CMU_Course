{
 "cells": [
  {
   "cell_type": "markdown",
   "metadata": {},
   "source": [
    " # 基本輸出與變數型態 - Output Comment and Data Type"
   ]
  },
  {
   "cell_type": "markdown",
   "metadata": {},
   "source": [
    "本章節內容大綱\n",
    "* [輸出](#輸出)\n",
    "* [加入註解](#加入註解)\n",
    "* [變數宣告](#變數宣告)\n",
    "    * [數值變數(boolean, int, float, complex)](#數值變數)\n",
    "    * [字串變數(string)](#字串變數)\n",
    "    * [NoneType](#NoneType)\n",
    "    * [多變數宣告](#多變數宣告)\n",
    "    * [型別轉換](#型別轉換)\n",
    "* [變數的Format Code](#變數的-Format-Code)\n",
    "* [變數的運算符號](#變數的運算符號)"
   ]
  },
  {
   "cell_type": "markdown",
   "metadata": {},
   "source": [
    " ## 輸出"
   ]
  },
  {
   "cell_type": "code",
   "execution_count": null,
   "metadata": {},
   "outputs": [],
   "source": [
    "# 使用雙引號或單引號印出一行字串，使用三引號可印出一段字串\n",
    "print('hello world')\n",
    "print(\"hello world\")\n",
    "print('''♪ღ♪*•.¸¸.•*¨¨*•.♪ღ♪*•.¸¸.•*¨¨*•.♪ღ♪\n",
    "░H░A░P░P░Y░♪░B░I░R░T░H░D░A░Y░\n",
    "♪ღ♪*•.¸¸.•*¨¨*•.♪ღ♪*•.¸¸.•*¨¨*•.♪ღ♪''')"
   ]
  },
  {
   "cell_type": "code",
   "execution_count": null,
   "metadata": {},
   "outputs": [],
   "source": [
    "# 用逗號分隔字串(或變數)，印出效果為空格\n",
    "print('hello', 'world')\n",
    "\n",
    "print('I am', 18, 'years old.')"
   ]
  },
  {
   "cell_type": "code",
   "execution_count": null,
   "metadata": {},
   "outputs": [],
   "source": [
    "# print 預設會在結尾換行，若要印出且不換行，在後面加入 end=''\n",
    "print('hello', end='')\n",
    "# 則下一次輸出會接在同一行的後面\n",
    "print('world')"
   ]
  },
  {
   "cell_type": "code",
   "execution_count": null,
   "metadata": {},
   "outputs": [],
   "source": [
    "# 印出帶有變數字串，在要印變數的地方輸入變數的 format code，並在字串後面輸入 % 後擺放變數\n",
    "# format code: 整數 %d, 浮點數 %f, 字串 %s\n",
    "# format code 的詳細部分會在後面章節說明。\n",
    "\n",
    "# 第一種方法\n",
    "aPrice = 40\n",
    "print(\"An apple cost %d dollars.\" % aPrice)\n",
    "\n",
    "# 印出帶有多變數字串，在要印變數的地方依序輸入變數的 format code，並在字串的後面將變數依序擺放至小括號。\n",
    "bPrice = 15\n",
    "\n",
    "print(\"An apple cost %d dollars and a banana cost %d.\" % (aPrice, bPrice))"
   ]
  },
  {
   "cell_type": "code",
   "execution_count": null,
   "metadata": {},
   "outputs": [],
   "source": [
    "# 第二種方法\n",
    "# format string，用需要印出變數的地方輸入大括號，並在字串後面以 .format() 填入對應的變數\n",
    "# 此方法的好處是不用記 format code。\n",
    "print(\"An apple cost {} dollars and a banana cost {}.\".format(aPrice, bPrice))"
   ]
  },
  {
   "cell_type": "code",
   "execution_count": null,
   "metadata": {},
   "outputs": [],
   "source": [
    "# 第三種方法\n",
    "# f-string，直接將變數以大括號包著，置入字串中輸出\n",
    "# 目前最推薦的印出方式，相較於前兩種既直覺又彈性。\n",
    "print(f'An apple cost {aPrice} dollars and a banana cost {bPrice}.')"
   ]
  },
  {
   "cell_type": "markdown",
   "metadata": {},
   "source": [
    "## 加入註解"
   ]
  },
  {
   "cell_type": "code",
   "execution_count": null,
   "metadata": {},
   "outputs": [],
   "source": [
    "# 單行註解在開頭鍵入井字號\n",
    "\n",
    "\"\"\"\n",
    "    多行註解則在前後各加入三個雙引號\n",
    "    如此一來可以在引號區間內不限制地加入註解唷\n",
    "    /\\︵-︵/\\\n",
    "    |(◉)(◉)|\n",
    "    \\ ︶V︶ /\n",
    "    /↺↺↺↺\\\n",
    "    ↺↺↺↺↺|\n",
    "    \\↺↺↺↺/\n",
    "    ¯¯/\\¯/\\¯\n",
    "\"\"\"\n",
    "print()"
   ]
  },
  {
   "cell_type": "markdown",
   "metadata": {},
   "source": [
    "\n",
    "\n",
    "-----\n",
    "\n"
   ]
  },
  {
   "cell_type": "markdown",
   "metadata": {},
   "source": [
    "## 變數宣告 \n",
    "\n",
    "在 python 中，我們宣告一個變數時，不用特別去指定它的型別(int, float等)，它會透過我們指派給該變數的值去自動定義。例如宣告 s = \"abc\"，python 就會自行把 s 定義為字串。"
   ]
  },
  {
   "cell_type": "markdown",
   "metadata": {},
   "source": [
    "### 數值變數"
   ]
  },
  {
   "cell_type": "code",
   "execution_count": 1,
   "metadata": {},
   "outputs": [
    {
     "name": "stdout",
     "output_type": "stream",
     "text": [
      "T: <class 'bool'> data type, value = True\n",
      "F: <class 'bool'> data type, value = False\n"
     ]
    }
   ],
   "source": [
    "T = True\n",
    "F = False\n",
    "\n",
    "# 由於 python 會自動根據宣告資料型態定義變數型別，\n",
    "# 可事後用 type()來了解變數的型別\n",
    "print(f'T: {type(T)} data type, value = {T}')\n",
    "print(f'F: {type(F)} data type, value = {F}')"
   ]
  },
  {
   "cell_type": "code",
   "execution_count": 2,
   "metadata": {},
   "outputs": [
    {
     "name": "stdout",
     "output_type": "stream",
     "text": [
      "I: <class 'int'> data type, value = 123\n"
     ]
    }
   ],
   "source": [
    "I1 = 123\n",
    "print(f'I: {type(I1)} data type, value = {I1}')"
   ]
  },
  {
   "cell_type": "code",
   "execution_count": 3,
   "metadata": {},
   "outputs": [
    {
     "name": "stdout",
     "output_type": "stream",
     "text": [
      "F1: <class 'float'> data type, value = 123.0\n",
      "F2: <class 'float'> data type, value = 123.0\n",
      "F3: <class 'float'> data type, value = 123.0\n",
      "F4: <class 'float'> data type, value = 123.0\n"
     ]
    }
   ],
   "source": [
    "# 宣告小數時，其型態會自動成為 float\n",
    "F1 = 123.0\n",
    "# 若小數部分為 0，宣告時可省略只留下一個點，這樣也會成為 float\n",
    "F2 = 123.\n",
    "# 宣告科學記號，也會直接成為 float，下面範例為 1.0 x 10^2\n",
    "F3 = 1.23e2\n",
    "# 也可以宣告整數後再轉換成 float\n",
    "F4 = float(123)\n",
    "\n",
    "print(f'F1: {type(F1)} data type, value = {F1}')\n",
    "print(f'F2: {type(F2)} data type, value = {F2}')\n",
    "print(f'F3: {type(F3)} data type, value = {F3}')\n",
    "print(f'F4: {type(F4)} data type, value = {F4}')"
   ]
  },
  {
   "cell_type": "code",
   "execution_count": null,
   "metadata": {},
   "outputs": [],
   "source": [
    "# 複數的虛數部分使用 j，並且虛部不需要加上乘號 (3*j)，直接 3j 即可。\n",
    "# 複數若要拿取其實部，使用 .real，拿取虛部使用 .imag\n",
    "\n",
    "C = 3.0 + 4.0j\n",
    "print(f'C: {type(C)} data type, value = {C.real} + {C.imag}j')"
   ]
  },
  {
   "cell_type": "markdown",
   "metadata": {},
   "source": [
    "### 字串變數"
   ]
  },
  {
   "cell_type": "code",
   "execution_count": null,
   "metadata": {},
   "outputs": [],
   "source": [
    "# 宣告字串，用單引號或雙引號包著\n",
    "S = '0123456789'\n",
    "print(f'S: {type(S)} data type, value = {S}')"
   ]
  },
  {
   "cell_type": "code",
   "execution_count": null,
   "metadata": {},
   "outputs": [],
   "source": [
    "# 印出 S 中 index 為 3的字元 (第一個是 index 0)\n",
    "print(S[3])"
   ]
  },
  {
   "cell_type": "code",
   "execution_count": null,
   "metadata": {},
   "outputs": [],
   "source": [
    "# 印出 S 中 index 由 3 至 6(不含) 的子字串，則用冒號。前面放起始 index，後面放結束(不含) index\n",
    "print(S[3:6])"
   ]
  },
  {
   "cell_type": "code",
   "execution_count": null,
   "metadata": {},
   "outputs": [],
   "source": [
    "# 印出 S 中 index 由 3 至 最後 的子字串。 前面放起始 index，後面省略\n",
    "print(S[3:])"
   ]
  },
  {
   "cell_type": "code",
   "execution_count": null,
   "metadata": {},
   "outputs": [],
   "source": [
    "# 印出 S 中 index 由 起始 至 6(不含)的子字串。 前面放起始省略，後面放結束(不含) index\n",
    "print(S[:6])"
   ]
  },
  {
   "cell_type": "code",
   "execution_count": null,
   "metadata": {},
   "outputs": [],
   "source": [
    "# 印出 S 中 index 由 2 至 8(不含)的子字串，並且每次往右跳2格取。\n",
    "# [起點:終點(不含):每次跳幾格]\n",
    "print(S[2:8:2])"
   ]
  },
  {
   "cell_type": "code",
   "execution_count": null,
   "metadata": {},
   "outputs": [],
   "source": [
    "print(S[:8:2])\n",
    "\n",
    "print(S[2::2])"
   ]
  },
  {
   "cell_type": "code",
   "execution_count": null,
   "metadata": {},
   "outputs": [],
   "source": [
    "# 負數 index 為從右邊往左數 (-1開始)\n",
    "print(S[-2])"
   ]
  },
  {
   "cell_type": "code",
   "execution_count": null,
   "metadata": {},
   "outputs": [],
   "source": [
    "# 負數 index 片段 + 往左跳格\n",
    "print(S[-1:-6:-2])"
   ]
  },
  {
   "cell_type": "markdown",
   "metadata": {},
   "source": [
    "### NoneType"
   ]
  },
  {
   "cell_type": "code",
   "execution_count": null,
   "metadata": {},
   "outputs": [],
   "source": [
    "# None 也為一種型別，在呼叫函式的時候多用此種型別來偵測有沒有執行成功 (某函式回傳了 None，代表它可能沒有順利執行)\n",
    "N = None\n",
    "print(f'N: {type(N)} data type, value = {N}')"
   ]
  },
  {
   "cell_type": "markdown",
   "metadata": {},
   "source": [
    "### 多變數宣告"
   ]
  },
  {
   "cell_type": "code",
   "execution_count": null,
   "metadata": {},
   "outputs": [],
   "source": [
    "# 多重變數宣告為同一值\n",
    "a = b = c = d = 5\n",
    "print(a, b, c, d)\n",
    "#  a = b = 3 = c = d 為語法錯誤，3(有值的物件)不能被拿來宣告，所以要擺在最右邊\n",
    "\n",
    "# 多重變數宣告為不同值\n",
    "e, f, g = 'five', 6, 7 + 8j\n",
    "print(e, f, g)"
   ]
  },
  {
   "cell_type": "markdown",
   "metadata": {},
   "source": [
    "### 型別轉換"
   ]
  },
  {
   "cell_type": "code",
   "execution_count": null,
   "metadata": {},
   "outputs": [],
   "source": [
    "S = \"123456\"\n",
    "Int_S = int(S)\n",
    "Float_S = float(S)\n",
    "\n",
    "print(f'Complx_S: {type(Int_S)}    data type, value = {Int_S}')\n",
    "print(f'Float_S : {type(Float_S)}  data type, value = {Float_S}')"
   ]
  },
  {
   "cell_type": "markdown",
   "metadata": {},
   "source": [
    "## 變數的運算符號"
   ]
  },
  {
   "cell_type": "markdown",
   "metadata": {},
   "source": [
    "\n",
    "\n",
    "Python 對於各種變數支援不同的運算符號集。整數、浮點數及複數支援一般四則運算、次方等，還有邏輯符號(and，or，not)及比較符號(>=，==，<=，!=)，而字串則支援串接(+)，重複(*)，也支援比較符號。"
   ]
  },
  {
   "cell_type": "code",
   "execution_count": null,
   "metadata": {},
   "outputs": [],
   "source": [
    "a, b = 10, 3\n",
    "\n",
    "print(f'{a}  +  {b} = {a + b}')\n",
    "print(f'{a}  -  {b} = {a - b}')\n",
    "print(f'{a}  *  {b} = {a * b}')\n",
    "# 一般除法，就算是兩個整數相除，也會將結果自動轉為浮點數\n",
    "print(f'{a}  /  {b} = {a / b}')\n",
    "# Floor division，只留下商\n",
    "print(f'{a} //  {b} = {a // b}')\n",
    "# 10 的 3 次方\n",
    "print(f'{a} **  {b} = {a ** b}')\n",
    "# 10 除以 3 的餘數\n",
    "print(f'{a} % {b} = {a % b}')"
   ]
  },
  {
   "cell_type": "code",
   "execution_count": null,
   "metadata": {},
   "outputs": [],
   "source": [
    "s1 = 'Hello'\n",
    "s2 = 'World'\n",
    "\n",
    "# 字串的 + 符號為串接意思\n",
    "S = s1 + ' ' + s2\n",
    "print(S)\n",
    "# 字串的 * 符號為重複意思\n",
    "S = (s1 + ' ') * 3\n",
    "print(S)"
   ]
  },
  {
   "cell_type": "code",
   "execution_count": null,
   "metadata": {},
   "outputs": [],
   "source": [
    "a = 3.1\n",
    "b = 3\n",
    "\n",
    "# 整數與符點數的大小比較相當直觀，但注意複數型態是無法做大小比較的。\n",
    "print(f'{a}  > {b}? {a > b}')\n",
    "print(f'{a}  < {b}? {a < b}')\n",
    "print(f'{a} == {b}? {a == b}')\n",
    "print(f'{a} >= {b}? {a >= b}')\n",
    "print(f'{a} <= {b}? {a <= b}')\n",
    "print(f'{a} != {b}? {a != b}')"
   ]
  },
  {
   "cell_type": "code",
   "execution_count": null,
   "metadata": {},
   "outputs": [],
   "source": [
    "a = 'abcde'\n",
    "b = 'abcdf'\n",
    "\n",
    "# 字串的大小比較是依照字典序，想像它們會在字典出現的先後順序，先出現者較小。\n",
    "print(f'{a}  > {b}? {a > b}')\n",
    "print(f'{a}  < {b}? {a < b}')\n",
    "print(f'{a} == {b}? {a == b}')\n",
    "print(f'{a} >= {b}? {a >= b}')\n",
    "print(f'{a} <= {b}? {a <= b}')\n",
    "print(f'{a} != {b}? {a != b}')"
   ]
  },
  {
   "cell_type": "markdown",
   "metadata": {},
   "source": [
    "\n",
    "\n",
    "-----\n",
    "\n"
   ]
  },
  {
   "cell_type": "markdown",
   "metadata": {},
   "source": [
    "# Quiz"
   ]
  },
  {
   "cell_type": "markdown",
   "metadata": {},
   "source": [
    "* hint：input( ) 方法可以讓使用者進行輸入操作"
   ]
  },
  {
   "cell_type": "code",
   "execution_count": null,
   "metadata": {},
   "outputs": [],
   "source": [
    "# quiz1:\n",
    "\n",
    "# 給定字串如下，使用 slicing 取出\n",
    "# 整數部分\n",
    "# 字元部分\n",
    "s = '1a2b3c4d5e6f'"
   ]
  },
  {
   "cell_type": "code",
   "execution_count": null,
   "metadata": {},
   "outputs": [],
   "source": [
    "# quiz2:\n",
    "\n",
    "# 輸入你的身高 (cm)，以及體重 (kg)\n",
    "# 計算 BMI 後以兩位小數點的精準度印出 (BMI = 體重(kg) / (身高(m))^2)\n",
    "height = input()\n",
    "weight = input()"
   ]
  },
  {
   "cell_type": "code",
   "execution_count": null,
   "metadata": {},
   "outputs": [],
   "source": [
    "# quiz3:\n",
    "\n",
    "# 分別使用 input() 輸入你的名字、性別、年齡\n",
    "# 並使用三種 print() 分別輸出一段包含這些資料的句子。\n",
    "# print(\"\" %())\n",
    "# print(\"\").format())\n",
    "# print(f'')\n",
    "\n",
    "# 選一個之後你主要要用來 print 的方式 (推薦 f-string)"
   ]
  },
  {
   "cell_type": "code",
   "execution_count": null,
   "metadata": {},
   "outputs": [],
   "source": [
    "# quiz4:\n",
    "\n",
    "# 給定字串如下，使用 slicing 取出\n",
    "# 整數部分\n",
    "# 字元部分\n",
    "s = '1a2b3c4d5e6f'"
   ]
  },
  {
   "cell_type": "code",
   "execution_count": null,
   "metadata": {},
   "outputs": [],
   "source": [
    "# quiz5:\n",
    "\n",
    "# 輸入你的身高 (cm)，以及體重 (kg)\n",
    "# 計算 BMI 後以兩位小數點的精準度印出 (BMI = 體重(kg) / (身高(m))^2)\n",
    "height = input()\n",
    "weight = input()"
   ]
  }
 ],
 "metadata": {
  "kernelspec": {
   "display_name": "Python 3 (ipykernel)",
   "language": "python",
   "name": "python3"
  },
  "language_info": {
   "codemirror_mode": {
    "name": "ipython",
    "version": 3
   },
   "file_extension": ".py",
   "mimetype": "text/x-python",
   "name": "python",
   "nbconvert_exporter": "python",
   "pygments_lexer": "ipython3",
   "version": "3.7.12"
  }
 },
 "nbformat": 4,
 "nbformat_minor": 4
}
