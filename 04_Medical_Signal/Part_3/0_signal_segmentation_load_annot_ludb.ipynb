{
 "cells": [
  {
   "cell_type": "code",
   "execution_count": null,
   "metadata": {},
   "outputs": [],
   "source": [
    "from os import path\n",
    "import numpy as np\n",
    "import matplotlib.pyplot as plt\n",
    "from glob import glob\n",
    "import json"
   ]
  },
  {
   "attachments": {},
   "cell_type": "markdown",
   "metadata": {},
   "source": [
    "## 查看annotation檔案"
   ]
  },
  {
   "attachments": {},
   "cell_type": "markdown",
   "metadata": {},
   "source": [
    "Annotation以json格式儲存，我們讀出來單個annotation file來儲存所有subject的annotations。"
   ]
  },
  {
   "cell_type": "code",
   "execution_count": null,
   "metadata": {},
   "outputs": [],
   "source": [
    "# 讀取.json 檔\n",
    "data_root = '/home/jovyan/ta-hsi-datacenter3/Medical/CMU_Course_sy/dataset/ludb'\n",
    "annotation_path = path.join(data_root,'ludb_annotation.json')\n",
    "with open(annotation_path, \"r\") as f:\n",
    "    annotations = json.load(f)"
   ]
  },
  {
   "attachments": {},
   "cell_type": "markdown",
   "metadata": {},
   "source": [
    "看一下annotation的格式"
   ]
  },
  {
   "cell_type": "code",
   "execution_count": null,
   "metadata": {},
   "outputs": [],
   "source": [
    "print(\"Get type:\",type(annotations))\n",
    "print(\"Number of data:\",len(annotations))\n",
    "print(\"Type of annotation:\",type(annotations[0]))"
   ]
  },
  {
   "cell_type": "code",
   "execution_count": null,
   "metadata": {},
   "outputs": [],
   "source": [
    "annotations[1]"
   ]
  },
  {
   "cell_type": "code",
   "execution_count": null,
   "metadata": {},
   "outputs": [],
   "source": [
    "# 觀察一些性質\n",
    "\n",
    "# 觀察數量\n",
    "type_count = {'p': 0, 'N': 0, 't': 0}\n",
    "type_durations = {'p': [], 'N': [], 't': []}\n",
    "n_labels_all = []\n",
    "for annots in annotations:\n",
    "    n_labels_all.append(len(annots['label']))\n",
    "    \n",
    "    for ann in annots['label']:\n",
    "        y = ann['timeserieslabels'][0]\n",
    "        duration = ann['end']-ann['start']\n",
    "        type_count[y] += 1\n",
    "        type_durations[y].append(duration)\n"
   ]
  },
  {
   "cell_type": "code",
   "execution_count": null,
   "metadata": {},
   "outputs": [],
   "source": [
    "# view count of types\n",
    "plt.bar(type_count.keys(), type_count.values())"
   ]
  },
  {
   "attachments": {},
   "cell_type": "markdown",
   "metadata": {},
   "source": [
    "可以看到三種label出現次數差不多"
   ]
  },
  {
   "cell_type": "code",
   "execution_count": null,
   "metadata": {},
   "outputs": [],
   "source": [
    "# plot distribution of durations\n",
    "for k, v in type_durations.items():\n",
    "    plt.hist(v, alpha=0.5, label=k)\n",
    "plt.legend()"
   ]
  },
  {
   "attachments": {},
   "cell_type": "markdown",
   "metadata": {},
   "source": [
    "可以看到t的延續時間平均來講較長但變化也較大，可能是因為有包含各種疾病的病患資料。\n",
    "\n",
    "對Segmentation訓練而言，duration長度越長的class等同資料越多，可能會造成不平衡的訓練偏好\n",
    "\n",
    "可以使用一些weighted sampling方式或者一些特殊的loss進行處理 e.g. Focal Loss"
   ]
  },
  {
   "cell_type": "code",
   "execution_count": null,
   "metadata": {},
   "outputs": [],
   "source": [
    "# Calculate weight for each class, no need to sum upt to 1\n",
    "type_weights = {k: 1/np.array(v).mean() for k, v in type_durations.items()}\n",
    "type_weights = {k: v/sum(type_weights.values()) for k, v in type_weights.items()} # Noemalize the sum of weights to 1 for better understanding"
   ]
  },
  {
   "cell_type": "code",
   "execution_count": null,
   "metadata": {},
   "outputs": [],
   "source": [
    "# view weight of class\n",
    "plt.bar(type_weights.keys(), type_weights.values())"
   ]
  },
  {
   "cell_type": "code",
   "execution_count": null,
   "metadata": {},
   "outputs": [],
   "source": []
  }
 ],
 "metadata": {
  "kernelspec": {
   "display_name": "Python 3 (ipykernel)",
   "language": "python",
   "name": "python3"
  },
  "language_info": {
   "codemirror_mode": {
    "name": "ipython",
    "version": 3
   },
   "file_extension": ".py",
   "mimetype": "text/x-python",
   "name": "python",
   "nbconvert_exporter": "python",
   "pygments_lexer": "ipython3",
   "version": "3.8.5"
  }
 },
 "nbformat": 4,
 "nbformat_minor": 4
}
