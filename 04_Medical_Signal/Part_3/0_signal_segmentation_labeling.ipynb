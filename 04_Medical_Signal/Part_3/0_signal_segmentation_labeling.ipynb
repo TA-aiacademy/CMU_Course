{
 "cells": [
  {
   "cell_type": "markdown",
   "metadata": {},
   "source": [
    "# Host the labeling tools"
   ]
  },
  {
   "cell_type": "code",
   "execution_count": null,
   "metadata": {
    "vscode": {
     "languageId": "plaintext"
    }
   },
   "outputs": [],
   "source": [
    "from google.colab import drive\n",
    "drive.mount('/content/drive', force_remount=True)"
   ]
  },
  {
   "cell_type": "code",
   "execution_count": null,
   "metadata": {
    "vscode": {
     "languageId": "plaintext"
    }
   },
   "outputs": [],
   "source": [
    "import os\n",
    "if not os.path.exists(\"/content/drive/MyDrive/label-studio\"):\n",
    "    %cd /content/drive/MyDrive/\n",
    "    !git clone https://github.com/taipingeric/label-studio.git\n",
    "\n",
    "%cd /content/drive/MyDrive/label-studio"
   ]
  },
  {
   "cell_type": "code",
   "execution_count": null,
   "metadata": {
    "vscode": {
     "languageId": "plaintext"
    }
   },
   "outputs": [],
   "source": [
    "# Mount a Cloud Storage bucket or location, without the gs:// prefix.\n",
    "mount_path = \"my-bucket\"  # or a location like \"my-bucket/path/to/mount\"\n",
    "local_path = f\"/mnt/gs/{mount_path}\"\n",
    "\n",
    "!mkdir -p {local_path}\n",
    "!gcsfuse --implicit-dirs {mount_path} {local_path}"
   ]
  },
  {
   "cell_type": "code",
   "execution_count": null,
   "metadata": {
    "vscode": {
     "languageId": "plaintext"
    }
   },
   "outputs": [],
   "source": [
    "%pip install -e .\n",
    "!python label_studio/manage.py migrate\n",
    "if not os.path.exists(\"/content/drive/MyDrive/clone/label-studio/label_studio/core/static_build\"):\n",
    "    !python label_studio/manage.py collectstatic"
   ]
  },
  {
   "cell_type": "code",
   "execution_count": null,
   "metadata": {
    "vscode": {
     "languageId": "plaintext"
    }
   },
   "outputs": [],
   "source": [
    "# 1. Get NGROK zipfile\n",
    "!wget https://bin.equinox.io/c/bNyj1mQVY4c/ngrok-v3-stable-linux-amd64.tgz --no-check-certificate\n",
    "# 2. Unzip it to the place for execution and remove zip file\n",
    "!tar xvzf ngrok-v3-stable-linux-amd64.tgz -C \"/usr/local/bin\"\n",
    "!rm -f ngrok-v3-stable-linux-amd64.tgz\n",
    "\n",
    "!ngrok config add-authtoken 2PJkKjQnWaVlMIspDhdgzfgGuza_4kBeDKscFVr8hRciLpDTg"
   ]
  },
  {
   "cell_type": "code",
   "execution_count": null,
   "metadata": {
    "vscode": {
     "languageId": "plaintext"
    }
   },
   "outputs": [],
   "source": [
    "!nohup ngrok http 8081 &"
   ]
  },
  {
   "cell_type": "code",
   "execution_count": null,
   "metadata": {
    "vscode": {
     "languageId": "plaintext"
    }
   },
   "outputs": [],
   "source": [
    "!mkdir \"/content/drive/MyDrive/eeg_seg_data\"\n",
    "!label-studio --data-dir \"/content/drive/MyDrive/eeg_seg_data\""
   ]
  }
 ],
 "metadata": {
  "kernelspec": {
   "display_name": "Python 3 (ipykernel)",
   "language": "python",
   "name": "python3"
  },
  "language_info": {
   "codemirror_mode": {
    "name": "ipython",
    "version": 3
   },
   "file_extension": ".py",
   "mimetype": "text/x-python",
   "name": "python",
   "nbconvert_exporter": "python",
   "pygments_lexer": "ipython3",
   "version": "3.7.12"
  }
 },
 "nbformat": 4,
 "nbformat_minor": 4
}
