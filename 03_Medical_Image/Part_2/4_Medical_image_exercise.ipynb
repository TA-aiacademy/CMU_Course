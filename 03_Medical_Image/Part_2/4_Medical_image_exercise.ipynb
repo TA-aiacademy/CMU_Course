{
 "cells": [
  {
   "cell_type": "markdown",
   "id": "913881b8",
   "metadata": {},
   "source": [
    "# Exercise: Image classification with medical image"
   ]
  },
  {
   "cell_type": "code",
   "execution_count": null,
   "id": "7fa2f41b",
   "metadata": {},
   "outputs": [],
   "source": [
    "# 安裝所需套件\n",
    "!pip -q install torchio\n",
    "!pip -q install transformers==4.28.1 datasets evaluate accelerate"
   ]
  },
  {
   "cell_type": "markdown",
   "id": "17ce4bfe",
   "metadata": {},
   "source": [
    "## Import packages"
   ]
  },
  {
   "cell_type": "code",
   "execution_count": null,
   "id": "0733e9f6",
   "metadata": {},
   "outputs": [],
   "source": [
    "# 匯入基本操作相關套件\n",
    "import torchio as tio\n",
    "import glob\n",
    "import numpy as np\n",
    "import matplotlib.pyplot as plt\n",
    "\n",
    "# 匯入 PyTorch 相關套件\n",
    "import torch\n",
    "import torch.nn as nn\n",
    "from torch.utils.data import Dataset\n",
    "from torch.utils.data import DataLoader\n",
    "\n",
    "# 匯入其他套件"
   ]
  },
  {
   "cell_type": "markdown",
   "id": "a803c60a",
   "metadata": {},
   "source": [
    "## Load dataset (chest x-ray)"
   ]
  },
  {
   "cell_type": "markdown",
   "id": "353d30d2",
   "metadata": {},
   "source": [
    "#### Curated Chest X-Ray Image Dataset for COVID-19\n",
    "* resource: http://dx.doi.org/10.17632/9xkhgts2s6.1\n",
    "* dataset_url: https://github.com/TA-aiacademy/CMU_Course/releases/download/image_classification_data/Curated_Chest_X-Ray.zip"
   ]
  },
  {
   "cell_type": "code",
   "execution_count": null,
   "id": "c7578320",
   "metadata": {},
   "outputs": [],
   "source": [
    "# load dataset\n"
   ]
  },
  {
   "cell_type": "code",
   "execution_count": null,
   "id": "26378419",
   "metadata": {},
   "outputs": [],
   "source": [
    "# build id2label and label2id (dictionary)\n"
   ]
  },
  {
   "cell_type": "markdown",
   "id": "48a6f976",
   "metadata": {},
   "source": [
    "## Preprocess\n"
   ]
  },
  {
   "cell_type": "code",
   "execution_count": null,
   "id": "d5557b13",
   "metadata": {},
   "outputs": [],
   "source": [
    "# choose model checkpoint and load its preprocess function\n"
   ]
  },
  {
   "cell_type": "markdown",
   "id": "06a98010",
   "metadata": {},
   "source": [
    "現在使用 [DefaultDataCollator](https://huggingface.co/docs/transformers/v4.28.1/en/main_classes/data_collator#transformers.DefaultDataCollator) 創建一個批次樣本。與 Hugging face 裡 Transformers 的其他資料收集器不同，DefaultDataCollator 不會套用額外的預處理，例如填充（padding）。"
   ]
  },
  {
   "cell_type": "code",
   "execution_count": null,
   "id": "23980f32",
   "metadata": {},
   "outputs": [],
   "source": [
    "from transformers import DefaultDataCollator\n",
    "\n",
    "data_collator = DefaultDataCollator()"
   ]
  },
  {
   "cell_type": "markdown",
   "id": "9aba2b37",
   "metadata": {},
   "source": [
    "## Evaluate"
   ]
  },
  {
   "cell_type": "code",
   "execution_count": null,
   "id": "b45514b2",
   "metadata": {},
   "outputs": [],
   "source": [
    "# build evaluate function\n"
   ]
  },
  {
   "cell_type": "markdown",
   "id": "807c6e7f",
   "metadata": {},
   "source": [
    "## Build model"
   ]
  },
  {
   "cell_type": "markdown",
   "id": "eabc4655",
   "metadata": {},
   "source": [
    "現在已準備好開始訓練模型了！使用 [AutoModelForImageClassification](https://huggingface.co/docs/transformers/v4.28.1/en/model_doc/auto#transformers.AutoModelForImageClassification) 載入模型。指定標籤的數量以及標籤的對應方式："
   ]
  },
  {
   "cell_type": "code",
   "execution_count": null,
   "id": "9305941b",
   "metadata": {},
   "outputs": [],
   "source": [
    "from transformers import AutoModelForImageClassification\n",
    "\n",
    "# load model"
   ]
  },
  {
   "cell_type": "markdown",
   "id": "48a3f459",
   "metadata": {},
   "source": [
    "## Train model"
   ]
  },
  {
   "cell_type": "markdown",
   "id": "dec1443c",
   "metadata": {},
   "source": [
    "接著的階段，只剩以下三個步驟：\n",
    "\n",
    "1. 在 [TrainingArguments](https://huggingface.co/docs/transformers/v4.28.1/en/main_classes/trainer#transformers.TrainingArguments) 中定義訓練的超參數。請務必留意資料集中未使用的資訊，設定 remove_unused_columns=False 可以防止被刪除未使用到的資訊！例如 image，這會導致無法獲得 pixel_values。另一個必需設定的參數是 output_dir，指定模型儲存的位置。通過設定 push_to_hub=True 將模型上傳至 Hub（需要登入 Hugging Face 才能上傳模型）。在每個 epoch 結束時，[Trainer](https://huggingface.co/docs/transformers/v4.28.1/en/main_classes/trainer#transformers.Trainer) 將評估準確性並儲存訓練模型。\n",
    "2. 將訓練參數、模型、資料集、預處理器、資料收集器以及計算評估指標函數傳遞給 [Trainer](https://huggingface.co/docs/transformers/v4.28.1/en/main_classes/trainer#transformers.Trainer)。\n",
    "3. 呼叫 [train](https://huggingface.co/docs/transformers/v4.28.1/en/main_classes/trainer#transformers.Trainer.train) 來微調模型。"
   ]
  },
  {
   "cell_type": "code",
   "execution_count": null,
   "id": "4cb7d804",
   "metadata": {},
   "outputs": [],
   "source": [
    "from transformers import TrainingArguments\n",
    "\n",
    "# setting training arguments"
   ]
  },
  {
   "cell_type": "code",
   "execution_count": null,
   "id": "0214d32f",
   "metadata": {},
   "outputs": [],
   "source": [
    "from transformers import Trainer\n",
    "\n",
    "# build trainer object"
   ]
  },
  {
   "cell_type": "code",
   "execution_count": null,
   "id": "38e85a72",
   "metadata": {},
   "outputs": [],
   "source": [
    "from transformers.integrations import MLflowCallback\n",
    "\n",
    "# start to train model"
   ]
  },
  {
   "cell_type": "markdown",
   "id": "162efe53",
   "metadata": {},
   "source": [
    "# Inference"
   ]
  },
  {
   "cell_type": "markdown",
   "id": "d895ea75",
   "metadata": {},
   "source": [
    "現在，微調後的模型以存放在指定路徑，並可使用它來進行推論！\n",
    "\n",
    "載入想要進行推論的影像："
   ]
  },
  {
   "cell_type": "code",
   "execution_count": null,
   "id": "646a9ea9",
   "metadata": {},
   "outputs": [],
   "source": [
    "# load test dataset\n"
   ]
  },
  {
   "cell_type": "code",
   "execution_count": null,
   "id": "d6e7c78b",
   "metadata": {},
   "outputs": [],
   "source": [
    "# load model and preprocessor\n"
   ]
  },
  {
   "cell_type": "code",
   "execution_count": null,
   "id": "1d910dc7",
   "metadata": {},
   "outputs": [],
   "source": [
    "# transform test data\n"
   ]
  },
  {
   "cell_type": "code",
   "execution_count": null,
   "id": "b1b52156",
   "metadata": {},
   "outputs": [],
   "source": [
    "# model inference\n"
   ]
  },
  {
   "cell_type": "code",
   "execution_count": null,
   "id": "ce39c10a",
   "metadata": {},
   "outputs": [],
   "source": [
    "# get output label\n"
   ]
  }
 ],
 "metadata": {
  "kernelspec": {
   "display_name": "Python 3 (ipykernel)",
   "language": "python",
   "name": "python3"
  },
  "language_info": {
   "codemirror_mode": {
    "name": "ipython",
    "version": 3
   },
   "file_extension": ".py",
   "mimetype": "text/x-python",
   "name": "python",
   "nbconvert_exporter": "python",
   "pygments_lexer": "ipython3",
   "version": "3.8.5"
  }
 },
 "nbformat": 4,
 "nbformat_minor": 5
}
